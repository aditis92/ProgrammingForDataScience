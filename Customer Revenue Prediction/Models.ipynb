{
 "cells": [
  {
   "cell_type": "markdown",
   "metadata": {},
   "source": [
    "### Project outline: \n",
    "\n",
    "- Read data into Jupyter notebook, use pandas to import data into a data frame\n",
    "- Preprocess data: Explore data, check for missing data and apply data scaling. Justify the type of scaling used.\n",
    "- Goal is to predict the **total transaction revenue**. \n",
    "- Decide aboute a good evaluation strategy and justify your choice.\n",
    "- Split dataset into train and test dataset. \n",
    "- Choose two supervised learning model of your choice to train on train set. Use proper methods to find the best parameters. Evaluate your method on test data according to evaluation strategy. \n",
    "- Choose two unsupervised learning models, clustering, to train on your dataset. Discuss results. \n",
    "- Choose two unsupervised learning models, dimentionally reduction, and train it your dataset. Now use the same supervised learning models above on reduced dataset. Can you see any differences? Discuss the result. \n",
    "- Use a neural network model on your dataset. Compare the result with other two supervised learning models. Which model performs better? \n",
    "\n",
    "### Deliverables:\n",
    "- Submit IPython notebook. Use markdown to provide an inline comments for this project.\n",
    "- Submit only one notebook. Before submitting, make sure everything runs as expected. To check that, restart the kernel (in the menubar, select Kernel > Restart) and then run all cells (in the menubar, select Cell > Run All).\n",
    "- Visualization expected. \n",
    "\n",
    "### Dataset Description\n",
    "This is an online Merchandise Store customer dataset. Goal is to predict the total transaction revenue. \n",
    "Each row in the dataset is one visit to the store. \n",
    "\n",
    "Data Fields\n",
    "- fullVisitorId- A unique identifier for each user of the Google Merchandise Store.\n",
    "- channelGrouping - The channel via which the user came to the Store.\n",
    "- date - The date on which the user visited the Store.\n",
    "- device - The specifications for the device used to access the Store.\n",
    "- geoNetwork - This section contains information about the geography of the user.\n",
    "- sessionId - A unique identifier for this visit to the store.\n",
    "- socialEngagementType - Engagement type, either \"Socially Engaged\" or \"Not Socially Engaged\".\n",
    "- totals - This section contains aggregate values across the session.\n",
    "- trafficSource - This section contains information about the Traffic Source from which the session originated.\n",
    "- visitId - An identifier for this session. This is part of the value usually stored as the _utmb cookie. This is only unique to the user. For a completely unique ID, you should use a combination of fullVisitorId and visitId.\n",
    "- visitNumber - The session number for this user. If this is the first session, then this is set to 1.\n",
    "- visitStartTime - The timestamp (expressed as POSIX time).\n",
    "- hits - This row and nested fields are populated for any and all types of hits. Provides a record of all page visits.\n",
    "- customDimensions - This section contains any user-level or session-level custom dimensions that are set for a session. This is a repeated field and has an entry for each dimension that is set."
   ]
  },
  {
   "cell_type": "code",
   "execution_count": 1,
   "metadata": {},
   "outputs": [],
   "source": [
    "#Importing libraries\n",
    "import os\n",
    "import json\n",
    "import numpy as np\n",
    "import pandas as pd\n",
    "from pandas.io.json import json_normalize\n",
    "import ast\n",
    "import seaborn as sns\n",
    "import matplotlib.pyplot as plt\n",
    "import json\n",
    "import pandas.io.json as pdjson\n",
    "import seaborn as sns\n",
    "from datetime import datetime\n",
    "from sklearn import preprocessing\n",
    "from sklearn.preprocessing import StandardScaler\n",
    "from sklearn import neighbors\n",
    "from sklearn.metrics import mean_squared_error \n",
    "from math import sqrt\n",
    "from sklearn.metrics import accuracy_score\n",
    "from sklearn.linear_model import SGDRegressor\n",
    "from sklearn.metrics import mean_squared_error\n",
    "import matplotlib.pyplot as plt\n",
    "%matplotlib inline\n"
   ]
  },
  {
   "cell_type": "code",
   "execution_count": 2,
   "metadata": {},
   "outputs": [],
   "source": [
    "#Parsing the data - since we have JSON columns but with single quotes \n",
    "#I have used ast library to fetch the data in these columng\n",
    "def data_fetch(csv_path, nrows=None):\n",
    "\n",
    "    JSON_COLUMNS = ['device', 'geoNetwork', 'trafficSource']\n",
    "\n",
    "    df = pd.read_csv(csv_path, \n",
    "                     converters={column: ast.literal_eval for column in JSON_COLUMNS}, \n",
    "                     dtype={'fullVisitorId': 'str'}, \n",
    "                     nrows=nrows)\n",
    "    \n",
    "    device_list=df['device'].tolist()\n",
    "    \n",
    "    #deleting unwanted columns before normalizing\n",
    "    for device in device_list:\n",
    "        del device['browserVersion'],device['browserSize'],device['flashVersion'],device['mobileInputSelector'],device['operatingSystemVersion'],device['screenResolution'],device['screenColors']\n",
    "    df['device']=pd.Series(device_list)\n",
    "    geoNetwork_list=df['geoNetwork'].tolist()\n",
    "    for network in geoNetwork_list:\n",
    "        del network['latitude'],network['longitude'],network['networkLocation'],network['cityId']\n",
    "    df['geoNetwork']=pd.Series(geoNetwork_list)\n",
    "    \n",
    "    df['hits']=df['hits'].apply(ast.literal_eval)\n",
    "    df['hits']=df['hits'].str[0]\n",
    "    df['hits']=df['hits'].apply(lambda x: {'index':np.NaN,'value':np.NaN} if pd.isnull(x) else x)\n",
    "    \n",
    "    df['customDimensions']=df['customDimensions'].apply(ast.literal_eval)\n",
    "    df['customDimensions']=df['customDimensions'].str[0]\n",
    "    df['customDimensions']=df['customDimensions'].apply(lambda x: {'index':np.NaN,'value':np.NaN} if pd.isnull(x) else x)\n",
    "    \n",
    "    JSON_COLUMNS = ['device', 'geoNetwork', 'trafficSource','hits','customDimensions']\n",
    "    for column in JSON_COLUMNS:\n",
    "        column_as_df = pdjson.json_normalize(df[column])\n",
    "        column_as_df.columns = [f\"{column}_{subcolumn}\" for subcolumn in column_as_df.columns]\n",
    "        df = df.drop(column, axis=1).merge(column_as_df, right_index=True, left_index=True)\n",
    "    \n",
    "    return df"
   ]
  },
  {
   "cell_type": "code",
   "execution_count": 3,
   "metadata": {},
   "outputs": [],
   "source": [
    "#Calling function to parse the data\n",
    "df = data_fetch(\"data.csv\")\n",
    "df2 = df\n",
    "data = df"
   ]
  },
  {
   "cell_type": "markdown",
   "metadata": {},
   "source": [
    "#### EDA"
   ]
  },
  {
   "cell_type": "code",
   "execution_count": 4,
   "metadata": {},
   "outputs": [
    {
     "data": {
      "text/html": [
       "<div>\n",
       "<style scoped>\n",
       "    .dataframe tbody tr th:only-of-type {\n",
       "        vertical-align: middle;\n",
       "    }\n",
       "\n",
       "    .dataframe tbody tr th {\n",
       "        vertical-align: top;\n",
       "    }\n",
       "\n",
       "    .dataframe thead th {\n",
       "        text-align: right;\n",
       "    }\n",
       "</style>\n",
       "<table border=\"1\" class=\"dataframe\">\n",
       "  <thead>\n",
       "    <tr style=\"text-align: right;\">\n",
       "      <th></th>\n",
       "      <th>channelGrouping</th>\n",
       "      <th>date</th>\n",
       "      <th>fullVisitorId</th>\n",
       "      <th>socialEngagementType</th>\n",
       "      <th>visitId</th>\n",
       "      <th>visitNumber</th>\n",
       "      <th>visitStartTime</th>\n",
       "      <th>totals_bounces</th>\n",
       "      <th>totals_hits</th>\n",
       "      <th>totals_newVisits</th>\n",
       "      <th>...</th>\n",
       "      <th>hits_referer</th>\n",
       "      <th>hits_social.hasSocialSourceReferral</th>\n",
       "      <th>hits_social.socialInteractionNetworkAction</th>\n",
       "      <th>hits_social.socialNetwork</th>\n",
       "      <th>hits_time</th>\n",
       "      <th>hits_transaction.currencyCode</th>\n",
       "      <th>hits_type</th>\n",
       "      <th>hits_value</th>\n",
       "      <th>customDimensions_index</th>\n",
       "      <th>customDimensions_value</th>\n",
       "    </tr>\n",
       "  </thead>\n",
       "  <tbody>\n",
       "    <tr>\n",
       "      <th>0</th>\n",
       "      <td>Organic Search</td>\n",
       "      <td>20171016</td>\n",
       "      <td>3162355547410993243</td>\n",
       "      <td>Not Socially Engaged</td>\n",
       "      <td>1508198450</td>\n",
       "      <td>1</td>\n",
       "      <td>1508198450</td>\n",
       "      <td>1.0</td>\n",
       "      <td>1</td>\n",
       "      <td>1.0</td>\n",
       "      <td>...</td>\n",
       "      <td>https://www.google.co.uk/search?q=water+bottle...</td>\n",
       "      <td>No</td>\n",
       "      <td>:</td>\n",
       "      <td>(not set)</td>\n",
       "      <td>0</td>\n",
       "      <td>USD</td>\n",
       "      <td>PAGE</td>\n",
       "      <td>NaN</td>\n",
       "      <td>4</td>\n",
       "      <td>EMEA</td>\n",
       "    </tr>\n",
       "    <tr>\n",
       "      <th>1</th>\n",
       "      <td>Referral</td>\n",
       "      <td>20171016</td>\n",
       "      <td>8934116514970143966</td>\n",
       "      <td>Not Socially Engaged</td>\n",
       "      <td>1508176307</td>\n",
       "      <td>6</td>\n",
       "      <td>1508176307</td>\n",
       "      <td>NaN</td>\n",
       "      <td>2</td>\n",
       "      <td>NaN</td>\n",
       "      <td>...</td>\n",
       "      <td>https://sites.google.com/a/google.com/transpor...</td>\n",
       "      <td>No</td>\n",
       "      <td>:</td>\n",
       "      <td>(not set)</td>\n",
       "      <td>0</td>\n",
       "      <td>NaN</td>\n",
       "      <td>PAGE</td>\n",
       "      <td>NaN</td>\n",
       "      <td>4</td>\n",
       "      <td>North America</td>\n",
       "    </tr>\n",
       "    <tr>\n",
       "      <th>2</th>\n",
       "      <td>Direct</td>\n",
       "      <td>20171016</td>\n",
       "      <td>7992466427990357681</td>\n",
       "      <td>Not Socially Engaged</td>\n",
       "      <td>1508201613</td>\n",
       "      <td>1</td>\n",
       "      <td>1508201613</td>\n",
       "      <td>NaN</td>\n",
       "      <td>2</td>\n",
       "      <td>1.0</td>\n",
       "      <td>...</td>\n",
       "      <td>https://www.googlemerchandisestore.com/</td>\n",
       "      <td>No</td>\n",
       "      <td>:</td>\n",
       "      <td>(not set)</td>\n",
       "      <td>0</td>\n",
       "      <td>NaN</td>\n",
       "      <td>PAGE</td>\n",
       "      <td>NaN</td>\n",
       "      <td>4</td>\n",
       "      <td>North America</td>\n",
       "    </tr>\n",
       "    <tr>\n",
       "      <th>3</th>\n",
       "      <td>Organic Search</td>\n",
       "      <td>20171016</td>\n",
       "      <td>9075655783635761930</td>\n",
       "      <td>Not Socially Engaged</td>\n",
       "      <td>1508169851</td>\n",
       "      <td>1</td>\n",
       "      <td>1508169851</td>\n",
       "      <td>NaN</td>\n",
       "      <td>2</td>\n",
       "      <td>1.0</td>\n",
       "      <td>...</td>\n",
       "      <td>https://www.google.com.tr/</td>\n",
       "      <td>No</td>\n",
       "      <td>:</td>\n",
       "      <td>(not set)</td>\n",
       "      <td>0</td>\n",
       "      <td>NaN</td>\n",
       "      <td>PAGE</td>\n",
       "      <td>NaN</td>\n",
       "      <td>4</td>\n",
       "      <td>EMEA</td>\n",
       "    </tr>\n",
       "    <tr>\n",
       "      <th>4</th>\n",
       "      <td>Organic Search</td>\n",
       "      <td>20171016</td>\n",
       "      <td>6960673291025684308</td>\n",
       "      <td>Not Socially Engaged</td>\n",
       "      <td>1508190552</td>\n",
       "      <td>1</td>\n",
       "      <td>1508190552</td>\n",
       "      <td>NaN</td>\n",
       "      <td>2</td>\n",
       "      <td>1.0</td>\n",
       "      <td>...</td>\n",
       "      <td>https://www.google.com.mx/</td>\n",
       "      <td>No</td>\n",
       "      <td>:</td>\n",
       "      <td>(not set)</td>\n",
       "      <td>0</td>\n",
       "      <td>NaN</td>\n",
       "      <td>PAGE</td>\n",
       "      <td>NaN</td>\n",
       "      <td>4</td>\n",
       "      <td>Central America</td>\n",
       "    </tr>\n",
       "  </tbody>\n",
       "</table>\n",
       "<p>5 rows × 106 columns</p>\n",
       "</div>"
      ],
      "text/plain": [
       "  channelGrouping      date        fullVisitorId  socialEngagementType  \\\n",
       "0  Organic Search  20171016  3162355547410993243  Not Socially Engaged   \n",
       "1        Referral  20171016  8934116514970143966  Not Socially Engaged   \n",
       "2          Direct  20171016  7992466427990357681  Not Socially Engaged   \n",
       "3  Organic Search  20171016  9075655783635761930  Not Socially Engaged   \n",
       "4  Organic Search  20171016  6960673291025684308  Not Socially Engaged   \n",
       "\n",
       "      visitId  visitNumber  visitStartTime  totals_bounces  totals_hits  \\\n",
       "0  1508198450            1      1508198450             1.0            1   \n",
       "1  1508176307            6      1508176307             NaN            2   \n",
       "2  1508201613            1      1508201613             NaN            2   \n",
       "3  1508169851            1      1508169851             NaN            2   \n",
       "4  1508190552            1      1508190552             NaN            2   \n",
       "\n",
       "   totals_newVisits           ...            \\\n",
       "0               1.0           ...             \n",
       "1               NaN           ...             \n",
       "2               1.0           ...             \n",
       "3               1.0           ...             \n",
       "4               1.0           ...             \n",
       "\n",
       "                                        hits_referer  \\\n",
       "0  https://www.google.co.uk/search?q=water+bottle...   \n",
       "1  https://sites.google.com/a/google.com/transpor...   \n",
       "2            https://www.googlemerchandisestore.com/   \n",
       "3                         https://www.google.com.tr/   \n",
       "4                         https://www.google.com.mx/   \n",
       "\n",
       "   hits_social.hasSocialSourceReferral  \\\n",
       "0                                   No   \n",
       "1                                   No   \n",
       "2                                   No   \n",
       "3                                   No   \n",
       "4                                   No   \n",
       "\n",
       "   hits_social.socialInteractionNetworkAction  hits_social.socialNetwork  \\\n",
       "0                                          :                   (not set)   \n",
       "1                                          :                   (not set)   \n",
       "2                                          :                   (not set)   \n",
       "3                                          :                   (not set)   \n",
       "4                                          :                   (not set)   \n",
       "\n",
       "   hits_time  hits_transaction.currencyCode  hits_type hits_value  \\\n",
       "0          0                            USD       PAGE        NaN   \n",
       "1          0                            NaN       PAGE        NaN   \n",
       "2          0                            NaN       PAGE        NaN   \n",
       "3          0                            NaN       PAGE        NaN   \n",
       "4          0                            NaN       PAGE        NaN   \n",
       "\n",
       "  customDimensions_index  customDimensions_value  \n",
       "0                      4                    EMEA  \n",
       "1                      4           North America  \n",
       "2                      4           North America  \n",
       "3                      4                    EMEA  \n",
       "4                      4         Central America  \n",
       "\n",
       "[5 rows x 106 columns]"
      ]
     },
     "execution_count": 4,
     "metadata": {},
     "output_type": "execute_result"
    }
   ],
   "source": [
    "df.head()"
   ]
  },
  {
   "cell_type": "code",
   "execution_count": 5,
   "metadata": {},
   "outputs": [
    {
     "data": {
      "text/plain": [
       "(20000, 106)"
      ]
     },
     "execution_count": 5,
     "metadata": {},
     "output_type": "execute_result"
    }
   ],
   "source": [
    "df.shape"
   ]
  },
  {
   "cell_type": "code",
   "execution_count": 6,
   "metadata": {},
   "outputs": [
    {
     "name": "stdout",
     "output_type": "stream",
     "text": [
      "socialEngagementType\n",
      "totals_visits\n",
      "device_language\n",
      "device_mobileDeviceBranding\n",
      "device_mobileDeviceInfo\n",
      "device_mobileDeviceMarketingName\n",
      "device_mobileDeviceModel\n",
      "trafficSource_adwordsClickInfo.criteriaParameters\n",
      "hits_index\n",
      "hits_value\n"
     ]
    }
   ],
   "source": [
    "#Deleting columns that have constant values\n",
    "#First identifying these columns and then deleting them\n",
    "for col in df.columns:\n",
    "    try:\n",
    "        if (df[col].nunique(dropna=False) == 1):\n",
    "            del(df[col])\n",
    "            print(col)\n",
    "    except TypeError:\n",
    "        a=df[col].astype('str')\n",
    "        if (a.nunique(dropna=False) == 1):\n",
    "            del(df[col])\n",
    "            print(col)\n",
    "del(col)\n"
   ]
  },
  {
   "cell_type": "code",
   "execution_count": 7,
   "metadata": {},
   "outputs": [
    {
     "data": {
      "text/plain": [
       "(20000, 96)"
      ]
     },
     "execution_count": 7,
     "metadata": {},
     "output_type": "execute_result"
    }
   ],
   "source": [
    "df.shape"
   ]
  },
  {
   "cell_type": "code",
   "execution_count": 8,
   "metadata": {
    "scrolled": true
   },
   "outputs": [
    {
     "data": {
      "text/plain": [
       "<bound method DataFrame.info of       channelGrouping      date        fullVisitorId     visitId  visitNumber  \\\n",
       "0      Organic Search  20171016  3162355547410993243  1508198450            1   \n",
       "1            Referral  20171016  8934116514970143966  1508176307            6   \n",
       "2              Direct  20171016  7992466427990357681  1508201613            1   \n",
       "3      Organic Search  20171016  9075655783635761930  1508169851            1   \n",
       "4      Organic Search  20171016  6960673291025684308  1508190552            1   \n",
       "5            Referral  20171016  0166277907528479249  1508196701            1   \n",
       "6            Referral  20171016  8349655975937271469  1508152478            1   \n",
       "7      Organic Search  20171016  1332629902468998662  1508206208            1   \n",
       "8      Organic Search  20171016   632878546807742341  1508207516            1   \n",
       "9      Organic Search  20171016  1259490915281096752  1508165159            2   \n",
       "10     Organic Search  20171016  7390444353235629134  1508157285            1   \n",
       "11     Organic Search  20171016  1297236773919696722  1508160120            1   \n",
       "12     Organic Search  20171016  5983987899933814948  1508177658            1   \n",
       "13        Paid Search  20171016  6135613929977117121  1508166431           10   \n",
       "14     Organic Search  20171016  7058083259448191057  1508174145            1   \n",
       "15     Organic Search  20171016  9592294493127192752  1508197277            1   \n",
       "16     Organic Search  20171016  6338477365942527347  1508177911            1   \n",
       "17     Organic Search  20171016  5645448549604517238  1508153337            1   \n",
       "18           Referral  20171016  4372943625982217246  1508160406            1   \n",
       "19     Organic Search  20171016  6733325364864317729  1508160304            1   \n",
       "20     Organic Search  20171016  6629331880108485577  1508142274            1   \n",
       "21     Organic Search  20171016  2631312367160271984  1508170914            1   \n",
       "22     Organic Search  20171016  0579247845938461901  1508165231            1   \n",
       "23     Organic Search  20171016  6320181278650796626  1508167897            1   \n",
       "24     Organic Search  20171016  5634653258298299672  1508150872            3   \n",
       "25     Organic Search  20171016  0875141984250977091  1508223135            1   \n",
       "26     Organic Search  20171016  3784396588165854095  1508203074            1   \n",
       "27     Organic Search  20171016  7979131263881451334  1508183432            1   \n",
       "28     Organic Search  20171016  5081271797474179310  1508179019            1   \n",
       "29     Organic Search  20171016   451521411412093630  1508160016            3   \n",
       "...               ...       ...                  ...         ...          ...   \n",
       "19970  Organic Search  20171110  0638217151550700356  1510333819            1   \n",
       "19971         Display  20171110  1029559279840697521  1510314008            3   \n",
       "19972  Organic Search  20171110  3507055303993026383  1510324380            1   \n",
       "19973  Organic Search  20171110  8401650950827023691  1510339760            1   \n",
       "19974  Organic Search  20171110  1114383565840905230  1510318701            4   \n",
       "19975  Organic Search  20171110  8824008510588587934  1510311073            1   \n",
       "19976  Organic Search  20171110  8737521554522247880  1510319703            1   \n",
       "19977  Organic Search  20171110  6160481921626167332  1510314528            1   \n",
       "19978  Organic Search  20171110  4418300086439160102  1510308434            1   \n",
       "19979  Organic Search  20171110  5896980682162299109  1510321558            1   \n",
       "19980  Organic Search  20171110  1534648649446945120  1510326046            1   \n",
       "19981  Organic Search  20171110  3572334439486669578  1510359040            1   \n",
       "19982  Organic Search  20171110   713097006511240151  1510335092            3   \n",
       "19983  Organic Search  20171110  9791025152683604173  1510312375            1   \n",
       "19984  Organic Search  20171110   983751441256395449  1510306540            1   \n",
       "19985  Organic Search  20171110  4731991783062694224  1510386083            2   \n",
       "19986  Organic Search  20171110  8436572690051628355  1510326297            1   \n",
       "19987  Organic Search  20171110  9790425381631867891  1510313504            1   \n",
       "19988  Organic Search  20171110  7080407552606074302  1510307846            1   \n",
       "19989  Organic Search  20171110  1396472444494607516  1510322061            1   \n",
       "19990  Organic Search  20171110  6772113972344550072  1510355463            1   \n",
       "19991  Organic Search  20171110  7880600646730321676  1510310932            1   \n",
       "19992  Organic Search  20171110  6004731795521319744  1510333732            1   \n",
       "19993  Organic Search  20171110    35498347133038683  1510322090            1   \n",
       "19994  Organic Search  20171110  6788376711000743400  1510323798            1   \n",
       "19995  Organic Search  20171110  3807686301035257712  1510317736            1   \n",
       "19996  Organic Search  20171110  4492072782143336080  1510370284            1   \n",
       "19997  Organic Search  20171110  3048540404757501270  1510324240            1   \n",
       "19998  Organic Search  20171110   963447026229691401  1510317595            1   \n",
       "19999  Organic Search  20171110   263659619765860524  1510333753            1   \n",
       "\n",
       "       visitStartTime  totals_bounces  totals_hits  totals_newVisits  \\\n",
       "0          1508198450             1.0            1               1.0   \n",
       "1          1508176307             NaN            2               NaN   \n",
       "2          1508201613             NaN            2               1.0   \n",
       "3          1508169851             NaN            2               1.0   \n",
       "4          1508190552             NaN            2               1.0   \n",
       "5          1508196701             NaN            2               1.0   \n",
       "6          1508152478             NaN            2               1.0   \n",
       "7          1508206208             NaN            2               1.0   \n",
       "8          1508207516             NaN            2               1.0   \n",
       "9          1508165159             NaN            2               NaN   \n",
       "10         1508157285             NaN            2               1.0   \n",
       "11         1508160120             NaN            2               1.0   \n",
       "12         1508177658             NaN            2               1.0   \n",
       "13         1508166431             NaN            2               NaN   \n",
       "14         1508174145             NaN            2               1.0   \n",
       "15         1508197277             NaN            2               1.0   \n",
       "16         1508177911             NaN            2               1.0   \n",
       "17         1508153337             NaN            2               1.0   \n",
       "18         1508160406             NaN            2               1.0   \n",
       "19         1508160304             NaN            2               1.0   \n",
       "20         1508142274             NaN            2               1.0   \n",
       "21         1508170914             NaN            2               1.0   \n",
       "22         1508165231             NaN            2               1.0   \n",
       "23         1508167897             NaN            2               1.0   \n",
       "24         1508150872             NaN            2               NaN   \n",
       "25         1508223135             NaN            2               1.0   \n",
       "26         1508203074             NaN            2               1.0   \n",
       "27         1508183432             NaN            2               1.0   \n",
       "28         1508179019             NaN            2               1.0   \n",
       "29         1508160016             NaN            2               NaN   \n",
       "...               ...             ...          ...               ...   \n",
       "19970      1510333819             1.0            1               1.0   \n",
       "19971      1510314008             1.0            1               NaN   \n",
       "19972      1510324380             1.0            1               1.0   \n",
       "19973      1510339760             1.0            1               1.0   \n",
       "19974      1510318701             1.0            1               NaN   \n",
       "19975      1510311073             1.0            1               1.0   \n",
       "19976      1510319703             1.0            1               1.0   \n",
       "19977      1510314528             1.0            1               1.0   \n",
       "19978      1510308434             1.0            1               1.0   \n",
       "19979      1510321558             1.0            1               1.0   \n",
       "19980      1510326046             1.0            1               1.0   \n",
       "19981      1510359040             1.0            1               1.0   \n",
       "19982      1510335092             1.0            1               NaN   \n",
       "19983      1510312375             1.0            1               1.0   \n",
       "19984      1510306540             1.0            1               1.0   \n",
       "19985      1510386083             1.0            1               NaN   \n",
       "19986      1510326297             1.0            1               1.0   \n",
       "19987      1510313504             1.0            1               1.0   \n",
       "19988      1510307846             1.0            1               1.0   \n",
       "19989      1510322061             1.0            1               1.0   \n",
       "19990      1510355463             1.0            1               1.0   \n",
       "19991      1510310932             1.0            1               1.0   \n",
       "19992      1510333732             1.0            1               1.0   \n",
       "19993      1510322090             1.0            1               1.0   \n",
       "19994      1510323798             1.0            1               1.0   \n",
       "19995      1510317736             1.0            1               1.0   \n",
       "19996      1510370284             1.0            1               1.0   \n",
       "19997      1510324240             1.0            1               1.0   \n",
       "19998      1510317595             1.0            1               1.0   \n",
       "19999      1510333753             1.0            1               1.0   \n",
       "\n",
       "       totals_pageviews          ...            hits_publisher_infos  \\\n",
       "0                   1.0          ...                              []   \n",
       "1                   2.0          ...                              []   \n",
       "2                   2.0          ...                              []   \n",
       "3                   2.0          ...                              []   \n",
       "4                   2.0          ...                              []   \n",
       "5                   2.0          ...                              []   \n",
       "6                   2.0          ...                              []   \n",
       "7                   2.0          ...                              []   \n",
       "8                   2.0          ...                              []   \n",
       "9                   2.0          ...                              []   \n",
       "10                  2.0          ...                              []   \n",
       "11                  2.0          ...                              []   \n",
       "12                  2.0          ...                              []   \n",
       "13                  2.0          ...                              []   \n",
       "14                  2.0          ...                              []   \n",
       "15                  2.0          ...                              []   \n",
       "16                  2.0          ...                              []   \n",
       "17                  2.0          ...                              []   \n",
       "18                  2.0          ...                              []   \n",
       "19                  2.0          ...                              []   \n",
       "20                  2.0          ...                              []   \n",
       "21                  2.0          ...                              []   \n",
       "22                  2.0          ...                              []   \n",
       "23                  2.0          ...                              []   \n",
       "24                  2.0          ...                              []   \n",
       "25                  2.0          ...                              []   \n",
       "26                  2.0          ...                              []   \n",
       "27                  2.0          ...                              []   \n",
       "28                  2.0          ...                              []   \n",
       "29                  2.0          ...                              []   \n",
       "...                 ...          ...                             ...   \n",
       "19970               1.0          ...                              []   \n",
       "19971               1.0          ...                              []   \n",
       "19972               1.0          ...                              []   \n",
       "19973               1.0          ...                              []   \n",
       "19974               1.0          ...                              []   \n",
       "19975               1.0          ...                              []   \n",
       "19976               1.0          ...                              []   \n",
       "19977               1.0          ...                              []   \n",
       "19978               1.0          ...                              []   \n",
       "19979               1.0          ...                              []   \n",
       "19980               1.0          ...                              []   \n",
       "19981               1.0          ...                              []   \n",
       "19982               1.0          ...                              []   \n",
       "19983               1.0          ...                              []   \n",
       "19984               1.0          ...                              []   \n",
       "19985               1.0          ...                              []   \n",
       "19986               1.0          ...                              []   \n",
       "19987               1.0          ...                              []   \n",
       "19988               1.0          ...                              []   \n",
       "19989               1.0          ...                              []   \n",
       "19990               1.0          ...                              []   \n",
       "19991               1.0          ...                              []   \n",
       "19992               1.0          ...                              []   \n",
       "19993               1.0          ...                              []   \n",
       "19994               1.0          ...                              []   \n",
       "19995               1.0          ...                              []   \n",
       "19996               1.0          ...                              []   \n",
       "19997               1.0          ...                              []   \n",
       "19998               1.0          ...                              []   \n",
       "19999               1.0          ...                              []   \n",
       "\n",
       "                                            hits_referer  \\\n",
       "0      https://www.google.co.uk/search?q=water+bottle...   \n",
       "1      https://sites.google.com/a/google.com/transpor...   \n",
       "2                https://www.googlemerchandisestore.com/   \n",
       "3                             https://www.google.com.tr/   \n",
       "4                             https://www.google.com.mx/   \n",
       "5               https://gdeals.googleplex.com/offer/2145   \n",
       "6      https://sites.google.com/a/google.com/nest-vis...   \n",
       "7                                 https://www.google.dk/   \n",
       "8                             https://www.google.com.mx/   \n",
       "9                                 https://www.google.nl/   \n",
       "10                             https://www.google.co.uk/   \n",
       "11                                https://www.google.se/   \n",
       "12                               https://www.google.com/   \n",
       "13     https://googleads.g.doubleclick.net/pagead/ads...   \n",
       "14                                https://www.google.ca/   \n",
       "15                             https://www.google.co.uk/   \n",
       "16                             https://www.google.co.in/   \n",
       "17                             https://www.google.co.uk/   \n",
       "18     https://analytics.google.com/analytics/web/?ut...   \n",
       "19                            https://www.google.com.ph/   \n",
       "20                                https://www.google.sk/   \n",
       "21                             https://www.google.co.uk/   \n",
       "22                             https://www.google.co.uk/   \n",
       "23                            https://www.google.com.br/   \n",
       "24                             https://www.google.co.jp/   \n",
       "25                            https://www.google.com.tw/   \n",
       "26                                https://www.google.ca/   \n",
       "27                             https://www.google.co.in/   \n",
       "28     https://www.google.com/url?sa=t&rct=j&q=&esrc=...   \n",
       "29                                https://www.google.de/   \n",
       "...                                                  ...   \n",
       "19970  https://m.baidu.com/from=1086k/bd_page_type=1/...   \n",
       "19971                             https://www.google.ch/   \n",
       "19972                         https://www.google.com.ar/   \n",
       "19973                         https://www.google.com.co/   \n",
       "19974                             https://www.google.at/   \n",
       "19975                          https://www.google.co.id/   \n",
       "19976                             https://www.google.cz/   \n",
       "19977                             https://www.google.at/   \n",
       "19978  https://www.google.co.in/search?q=www.google.c...   \n",
       "19979                             https://www.google.se/   \n",
       "19980                         https://www.google.com.ec/   \n",
       "19981                             https://www.google.no/   \n",
       "19982                         https://www.google.com.ph/   \n",
       "19983                             https://www.google.bg/   \n",
       "19984                             https://www.google.be/   \n",
       "19985                             https://www.google.fr/   \n",
       "19986  https://www.google.co.kr/url?sa=t&rct=j&q=&esr...   \n",
       "19987                             https://www.google.se/   \n",
       "19988                             https://www.google.at/   \n",
       "19989                          https://www.google.co.za/   \n",
       "19990                         https://www.google.com.br/   \n",
       "19991                             https://www.google.pt/   \n",
       "19992                          https://www.google.com.ua   \n",
       "19993                             https://www.google.se/   \n",
       "19994                             https://www.google.pt/   \n",
       "19995                             https://www.google.pl/   \n",
       "19996                         https://www.google.com.vn/   \n",
       "19997                         https://www.google.com.ar/   \n",
       "19998                           http://www.google.co.in/   \n",
       "19999                         https://www.google.com.ua/   \n",
       "\n",
       "       hits_social.hasSocialSourceReferral  \\\n",
       "0                                       No   \n",
       "1                                       No   \n",
       "2                                       No   \n",
       "3                                       No   \n",
       "4                                       No   \n",
       "5                                       No   \n",
       "6                                       No   \n",
       "7                                       No   \n",
       "8                                       No   \n",
       "9                                       No   \n",
       "10                                      No   \n",
       "11                                      No   \n",
       "12                                      No   \n",
       "13                                      No   \n",
       "14                                      No   \n",
       "15                                      No   \n",
       "16                                      No   \n",
       "17                                      No   \n",
       "18                                      No   \n",
       "19                                      No   \n",
       "20                                      No   \n",
       "21                                      No   \n",
       "22                                      No   \n",
       "23                                      No   \n",
       "24                                      No   \n",
       "25                                      No   \n",
       "26                                      No   \n",
       "27                                      No   \n",
       "28                                      No   \n",
       "29                                      No   \n",
       "...                                    ...   \n",
       "19970                                   No   \n",
       "19971                                   No   \n",
       "19972                                   No   \n",
       "19973                                   No   \n",
       "19974                                   No   \n",
       "19975                                   No   \n",
       "19976                                   No   \n",
       "19977                                   No   \n",
       "19978                                   No   \n",
       "19979                                   No   \n",
       "19980                                   No   \n",
       "19981                                   No   \n",
       "19982                                   No   \n",
       "19983                                   No   \n",
       "19984                                   No   \n",
       "19985                                   No   \n",
       "19986                                   No   \n",
       "19987                                   No   \n",
       "19988                                   No   \n",
       "19989                                   No   \n",
       "19990                                   No   \n",
       "19991                                   No   \n",
       "19992                                   No   \n",
       "19993                                   No   \n",
       "19994                                   No   \n",
       "19995                                   No   \n",
       "19996                                   No   \n",
       "19997                                   No   \n",
       "19998                                   No   \n",
       "19999                                   No   \n",
       "\n",
       "       hits_social.socialInteractionNetworkAction  hits_social.socialNetwork  \\\n",
       "0                                              :                   (not set)   \n",
       "1                                              :                   (not set)   \n",
       "2                                              :                   (not set)   \n",
       "3                                              :                   (not set)   \n",
       "4                                              :                   (not set)   \n",
       "5                                              :                   (not set)   \n",
       "6                                              :                   (not set)   \n",
       "7                                              :                   (not set)   \n",
       "8                                              :                   (not set)   \n",
       "9                                              :                   (not set)   \n",
       "10                                             :                   (not set)   \n",
       "11                                             :                   (not set)   \n",
       "12                                             :                   (not set)   \n",
       "13                                             :                   (not set)   \n",
       "14                                             :                   (not set)   \n",
       "15                                             :                   (not set)   \n",
       "16                                             :                   (not set)   \n",
       "17                                             :                   (not set)   \n",
       "18                                             :                   (not set)   \n",
       "19                                             :                   (not set)   \n",
       "20                                             :                   (not set)   \n",
       "21                                             :                   (not set)   \n",
       "22                                             :                   (not set)   \n",
       "23                                             :                   (not set)   \n",
       "24                                             :                   (not set)   \n",
       "25                                             :                   (not set)   \n",
       "26                                             :                   (not set)   \n",
       "27                                             :                   (not set)   \n",
       "28                                             :                   (not set)   \n",
       "29                                             :                   (not set)   \n",
       "...                                           ...                        ...   \n",
       "19970                                          :                   (not set)   \n",
       "19971                                          :                   (not set)   \n",
       "19972                                          :                   (not set)   \n",
       "19973                                          :                   (not set)   \n",
       "19974                                          :                   (not set)   \n",
       "19975                                          :                   (not set)   \n",
       "19976                                          :                   (not set)   \n",
       "19977                                          :                   (not set)   \n",
       "19978                                          :                   (not set)   \n",
       "19979                                          :                   (not set)   \n",
       "19980                                          :                   (not set)   \n",
       "19981                                          :                   (not set)   \n",
       "19982                                          :                   (not set)   \n",
       "19983                                          :                   (not set)   \n",
       "19984                                          :                   (not set)   \n",
       "19985                                          :                   (not set)   \n",
       "19986                                          :                   (not set)   \n",
       "19987                                          :                   (not set)   \n",
       "19988                                          :                   (not set)   \n",
       "19989                                          :                   (not set)   \n",
       "19990                                          :                   (not set)   \n",
       "19991                                          :                   (not set)   \n",
       "19992                                          :                   (not set)   \n",
       "19993                                          :                   (not set)   \n",
       "19994                                          :                   (not set)   \n",
       "19995                                          :                   (not set)   \n",
       "19996                                          :                   (not set)   \n",
       "19997                                          :                   (not set)   \n",
       "19998                                          :                   (not set)   \n",
       "19999                                          :                   (not set)   \n",
       "\n",
       "      hits_time hits_transaction.currencyCode  hits_type  \\\n",
       "0             0                           USD       PAGE   \n",
       "1             0                           NaN       PAGE   \n",
       "2             0                           NaN       PAGE   \n",
       "3             0                           NaN       PAGE   \n",
       "4             0                           NaN       PAGE   \n",
       "5             0                           NaN       PAGE   \n",
       "6             0                           NaN       PAGE   \n",
       "7             0                           NaN       PAGE   \n",
       "8             0                           NaN       PAGE   \n",
       "9             0                           USD       PAGE   \n",
       "10            0                           USD       PAGE   \n",
       "11            0                           USD       PAGE   \n",
       "12            0                           USD       PAGE   \n",
       "13            0                           USD       PAGE   \n",
       "14            0                           USD       PAGE   \n",
       "15            0                           USD       PAGE   \n",
       "16            0                           USD       PAGE   \n",
       "17            0                           USD       PAGE   \n",
       "18            0                           NaN       PAGE   \n",
       "19            0                           USD       PAGE   \n",
       "20            0                           USD       PAGE   \n",
       "21            0                           USD       PAGE   \n",
       "22            0                           USD       PAGE   \n",
       "23            0                           USD       PAGE   \n",
       "24            0                           USD       PAGE   \n",
       "25            0                           USD       PAGE   \n",
       "26            0                           USD       PAGE   \n",
       "27            0                           USD       PAGE   \n",
       "28            0                           USD       PAGE   \n",
       "29            0                           USD       PAGE   \n",
       "...         ...                           ...        ...   \n",
       "19970         0                           NaN       PAGE   \n",
       "19971         0                           NaN       PAGE   \n",
       "19972         0                           NaN       PAGE   \n",
       "19973         0                           NaN       PAGE   \n",
       "19974         0                           NaN       PAGE   \n",
       "19975         0                           NaN       PAGE   \n",
       "19976         0                           NaN       PAGE   \n",
       "19977         0                           NaN       PAGE   \n",
       "19978         0                           NaN       PAGE   \n",
       "19979         0                           NaN       PAGE   \n",
       "19980         0                           NaN       PAGE   \n",
       "19981         0                           NaN       PAGE   \n",
       "19982         0                           NaN       PAGE   \n",
       "19983         0                           NaN       PAGE   \n",
       "19984         0                           NaN       PAGE   \n",
       "19985         0                           NaN       PAGE   \n",
       "19986         0                           NaN       PAGE   \n",
       "19987         0                           NaN       PAGE   \n",
       "19988         0                           NaN       PAGE   \n",
       "19989         0                           NaN       PAGE   \n",
       "19990         0                           NaN       PAGE   \n",
       "19991         0                           NaN       PAGE   \n",
       "19992         0                           NaN       PAGE   \n",
       "19993         0                           NaN       PAGE   \n",
       "19994         0                           NaN       PAGE   \n",
       "19995         0                           NaN       PAGE   \n",
       "19996         0                           NaN       PAGE   \n",
       "19997         0                           NaN       PAGE   \n",
       "19998         0                           NaN       PAGE   \n",
       "19999         0                           NaN       PAGE   \n",
       "\n",
       "      customDimensions_index customDimensions_value  \n",
       "0                          4                   EMEA  \n",
       "1                          4          North America  \n",
       "2                          4          North America  \n",
       "3                          4                   EMEA  \n",
       "4                          4        Central America  \n",
       "5                          4          North America  \n",
       "6                          4                   EMEA  \n",
       "7                        NaN                    NaN  \n",
       "8                          4        Central America  \n",
       "9                          4                   EMEA  \n",
       "10                         4                   EMEA  \n",
       "11                         4                   EMEA  \n",
       "12                         4          North America  \n",
       "13                         4          North America  \n",
       "14                         4          North America  \n",
       "15                         4                   EMEA  \n",
       "16                         4                   APAC  \n",
       "17                         4                   EMEA  \n",
       "18                         4                   EMEA  \n",
       "19                       NaN                    NaN  \n",
       "20                       NaN                    NaN  \n",
       "21                         4                   EMEA  \n",
       "22                         4                   EMEA  \n",
       "23                         4          South America  \n",
       "24                         4                   APAC  \n",
       "25                         4                   APAC  \n",
       "26                         4          North America  \n",
       "27                         4                   APAC  \n",
       "28                         4          North America  \n",
       "29                         4                   EMEA  \n",
       "...                      ...                    ...  \n",
       "19970                      4                   EMEA  \n",
       "19971                      4                   EMEA  \n",
       "19972                      4          South America  \n",
       "19973                    NaN                    NaN  \n",
       "19974                    NaN                    NaN  \n",
       "19975                      4                   APAC  \n",
       "19976                    NaN                    NaN  \n",
       "19977                    NaN                    NaN  \n",
       "19978                      4                   APAC  \n",
       "19979                      4                   EMEA  \n",
       "19980                    NaN                    NaN  \n",
       "19981                    NaN                    NaN  \n",
       "19982                    NaN                    NaN  \n",
       "19983                    NaN                    NaN  \n",
       "19984                      4                   EMEA  \n",
       "19985                      4                   EMEA  \n",
       "19986                    NaN                    NaN  \n",
       "19987                      4                   EMEA  \n",
       "19988                    NaN                    NaN  \n",
       "19989                    NaN                    NaN  \n",
       "19990                      4          South America  \n",
       "19991                    NaN                    NaN  \n",
       "19992                    NaN                    NaN  \n",
       "19993                      4                   EMEA  \n",
       "19994                    NaN                    NaN  \n",
       "19995                      4                   EMEA  \n",
       "19996                    NaN                    NaN  \n",
       "19997                      4          South America  \n",
       "19998                      4                   APAC  \n",
       "19999                    NaN                    NaN  \n",
       "\n",
       "[20000 rows x 96 columns]>"
      ]
     },
     "execution_count": 8,
     "metadata": {},
     "output_type": "execute_result"
    }
   ],
   "source": [
    "df.info"
   ]
  },
  {
   "cell_type": "code",
   "execution_count": 9,
   "metadata": {},
   "outputs": [],
   "source": [
    "#Removing some json columns with less relevance\n",
    "df = df.drop(labels=['hits_product'], axis=1)\n",
    "df = df.drop(labels=['hits_promotion'], axis=1)"
   ]
  },
  {
   "cell_type": "code",
   "execution_count": 10,
   "metadata": {},
   "outputs": [
    {
     "data": {
      "text/plain": [
       "channelGrouping                                 False\n",
       "date                                            False\n",
       "fullVisitorId                                   False\n",
       "visitId                                         False\n",
       "visitNumber                                     False\n",
       "visitStartTime                                  False\n",
       "totals_bounces                                   True\n",
       "totals_hits                                     False\n",
       "totals_newVisits                                 True\n",
       "totals_pageviews                                 True\n",
       "totals_sessionQualityDim                         True\n",
       "totals_timeOnSite                                True\n",
       "totals_totalTransactionRevenue                   True\n",
       "totals_transactionRevenue                        True\n",
       "totals_transactions                              True\n",
       "device_browser                                  False\n",
       "device_deviceCategory                           False\n",
       "device_isMobile                                 False\n",
       "device_operatingSystem                          False\n",
       "geoNetwork_city                                 False\n",
       "geoNetwork_continent                            False\n",
       "geoNetwork_country                              False\n",
       "geoNetwork_metro                                False\n",
       "geoNetwork_networkDomain                        False\n",
       "geoNetwork_region                               False\n",
       "geoNetwork_subContinent                         False\n",
       "trafficSource_adContent                          True\n",
       "trafficSource_adwordsClickInfo.adNetworkType     True\n",
       "trafficSource_adwordsClickInfo.gclId             True\n",
       "trafficSource_adwordsClickInfo.isVideoAd         True\n",
       "                                                ...  \n",
       "hits_exceptionInfo.isFatal                       True\n",
       "hits_experiment                                  True\n",
       "hits_hitNumber                                   True\n",
       "hits_hour                                        True\n",
       "hits_isEntrance                                  True\n",
       "hits_isExit                                      True\n",
       "hits_isInteraction                               True\n",
       "hits_item.currencyCode                           True\n",
       "hits_minute                                      True\n",
       "hits_page.hostname                               True\n",
       "hits_page.pagePath                               True\n",
       "hits_page.pagePathLevel1                         True\n",
       "hits_page.pagePathLevel2                         True\n",
       "hits_page.pagePathLevel3                         True\n",
       "hits_page.pagePathLevel4                         True\n",
       "hits_page.pageTitle                              True\n",
       "hits_page.searchCategory                         True\n",
       "hits_page.searchKeyword                          True\n",
       "hits_promotionActionInfo.promoIsClick            True\n",
       "hits_promotionActionInfo.promoIsView             True\n",
       "hits_publisher_infos                             True\n",
       "hits_referer                                     True\n",
       "hits_social.hasSocialSourceReferral              True\n",
       "hits_social.socialInteractionNetworkAction       True\n",
       "hits_social.socialNetwork                        True\n",
       "hits_time                                        True\n",
       "hits_transaction.currencyCode                    True\n",
       "hits_type                                        True\n",
       "customDimensions_index                           True\n",
       "customDimensions_value                           True\n",
       "Length: 94, dtype: bool"
      ]
     },
     "execution_count": 10,
     "metadata": {},
     "output_type": "execute_result"
    }
   ],
   "source": [
    "#Checking for na\n",
    "df.isna().any()"
   ]
  },
  {
   "cell_type": "markdown",
   "metadata": {},
   "source": [
    "#### Handling missing values"
   ]
  },
  {
   "cell_type": "code",
   "execution_count": 11,
   "metadata": {},
   "outputs": [],
   "source": [
    "#Filling missing data with 0\n",
    "df['totals_transactionRevenue'].fillna(0, inplace=True)"
   ]
  },
  {
   "cell_type": "code",
   "execution_count": 12,
   "metadata": {},
   "outputs": [],
   "source": [
    "#Handling missing data\n",
    "df['totals_pageviews'].fillna(1, inplace=True)\n",
    "df['totals_newVisits'].fillna(0, inplace=True) \n",
    "df['totals_bounces'].fillna(0, inplace=True)  \n",
    "df[\"totals_transactionRevenue\"] = df[\"totals_transactionRevenue\"].fillna(0.0) \n",
    "df['trafficSource_isTrueDirect'].fillna(False, inplace=True) \n",
    "df['trafficSource_adwordsClickInfo.isVideoAd'].fillna(True, inplace=True)\n",
    "df.loc[df['geoNetwork_city'] == \"(not set)\", 'geoNetwork_city'] = np.nan\n",
    "df['geoNetwork_city'].fillna(\"NaN\", inplace=True)\n",
    "\n",
    "df['visitNumber'].fillna(0, inplace=True)\n",
    "df['visitStartTime'].fillna(0, inplace=True)\n",
    "df['totals_hits'].fillna(0, inplace=True)\n",
    "df['totals_sessionQualityDim'].fillna(0, inplace=True)\n",
    "df['totals_timeOnSite'].fillna(0, inplace=True)\n",
    "df['totals_transactions'].fillna(0, inplace=True)"
   ]
  },
  {
   "cell_type": "code",
   "execution_count": 13,
   "metadata": {},
   "outputs": [],
   "source": [
    "#Changing the format for the date\n",
    "\n",
    "df[\"date\"] = pd.to_datetime(df[\"date\"], format=\"%Y%m%d\") \n",
    "df[\"month\"] = df['date'].dt.month\n",
    "df[\"year\"] = df['date'].dt.year\n",
    "df['visitHour'] = (df['visitStartTime'].apply(lambda x: str(datetime.fromtimestamp(x).hour))).astype(int)\n"
   ]
  },
  {
   "cell_type": "code",
   "execution_count": 14,
   "metadata": {},
   "outputs": [
    {
     "data": {
      "text/plain": [
       "<matplotlib.axes._subplots.AxesSubplot at 0x29202b4d978>"
      ]
     },
     "execution_count": 14,
     "metadata": {},
     "output_type": "execute_result"
    },
    {
     "data": {
      "image/png": "[encoded data removed]",
      "text/plain": [
       "<Figure size 1440x720 with 1 Axes>"
      ]
     },
     "metadata": {},
     "output_type": "display_data"
    }
   ],
   "source": [
    "#Checking which channel leads to highest revenue\n",
    "df_channel = df.groupby(['channelGrouping'], as_index = False)['totals_transactionRevenue'].sum()\n",
    "\n",
    "y = df_channel['totals_transactionRevenue']\n",
    "x = df_channel['channelGrouping']\n",
    "\n",
    "fig, ax = plt.subplots(figsize=(20,10)) \n",
    "sns.barplot(x=x,y=y)"
   ]
  },
  {
   "cell_type": "code",
   "execution_count": 15,
   "metadata": {},
   "outputs": [
    {
     "data": {
      "text/plain": [
       "<matplotlib.axes._subplots.AxesSubplot at 0x2920290c240>"
      ]
     },
     "execution_count": 15,
     "metadata": {},
     "output_type": "execute_result"
    },
    {
     "data": {
      "image/png": "[encoded data removed]",
      "text/plain": [
       "<Figure size 1440x720 with 1 Axes>"
      ]
     },
     "metadata": {},
     "output_type": "display_data"
    }
   ],
   "source": [
    "#Checking which device category leads to highest revenue\n",
    "df_device_cat = df.groupby(['device_deviceCategory'], as_index = False)['totals_transactionRevenue'].sum()\n",
    "\n",
    "y = df_device_cat['totals_transactionRevenue']\n",
    "x = df_device_cat['device_deviceCategory']\n",
    "\n",
    "fig, ax = plt.subplots(figsize=(20,10)) \n",
    "sns.barplot(x=x,y=y)"
   ]
  },
  {
   "cell_type": "code",
   "execution_count": 16,
   "metadata": {
    "scrolled": false
   },
   "outputs": [
    {
     "data": {
      "text/plain": [
       "Text(0,0.5,'Total Revenue')"
      ]
     },
     "execution_count": 16,
     "metadata": {},
     "output_type": "execute_result"
    },
    {
     "data": {
      "image/png": "[encoded data removed]",
      "text/plain": [
       "<Figure size 1080x576 with 1 Axes>"
      ]
     },
     "metadata": {},
     "output_type": "display_data"
    }
   ],
   "source": [
    "#Yearly trend\n",
    "df_yearly = df.groupby(['year'])['totals_transactionRevenue'].sum()\n",
    "\n",
    "plot_yearly_summary = df_yearly.plot(grid = True,figsize=(15,8), title=\"\")\n",
    "plot_yearly_summary.set_ylabel(\"Total Revenue\")"
   ]
  },
  {
   "cell_type": "code",
   "execution_count": 17,
   "metadata": {},
   "outputs": [
    {
     "data": {
      "text/plain": [
       "Text(0,0.5,'Total Revenue')"
      ]
     },
     "execution_count": 17,
     "metadata": {},
     "output_type": "execute_result"
    },
    {
     "data": {
      "image/png": "[encoded data removed]",
      "text/plain": [
       "<Figure size 1080x576 with 1 Axes>"
      ]
     },
     "metadata": {},
     "output_type": "display_data"
    }
   ],
   "source": [
    "#Monthly trend\n",
    "df_monthly = df.groupby(['month'])['totals_transactionRevenue'].sum()\n",
    "\n",
    "plot_yearly_summary = df_monthly.plot(grid = True,figsize=(15,8))\n",
    "plot_yearly_summary.set_ylabel(\"Total Revenue\")"
   ]
  },
  {
   "cell_type": "code",
   "execution_count": 18,
   "metadata": {},
   "outputs": [
    {
     "data": {
      "text/plain": [
       "<matplotlib.axes._subplots.AxesSubplot at 0x292024fd048>"
      ]
     },
     "execution_count": 18,
     "metadata": {},
     "output_type": "execute_result"
    },
    {
     "data": {
      "image/png": "[encoded data removed]",
      "text/plain": [
       "<Figure size 1440x720 with 1 Axes>"
      ]
     },
     "metadata": {},
     "output_type": "display_data"
    }
   ],
   "source": [
    "#Traffic Source of revenue generating visits\n",
    "df_traffic_source = df.groupby(['trafficSource_source'], as_index = False)['totals_transactionRevenue'].sum()\n",
    "df_traffic_source = df_traffic_source.sort_values(by = 'totals_transactionRevenue', ascending = False).head(7)\n",
    "y = df_traffic_source['totals_transactionRevenue']\n",
    "x = df_traffic_source['trafficSource_source']\n",
    "\n",
    "fig, ax = plt.subplots(figsize=(20,10)) \n",
    "sns.barplot(x=x,y=y)"
   ]
  },
  {
   "cell_type": "code",
   "execution_count": 19,
   "metadata": {
    "scrolled": true
   },
   "outputs": [
    {
     "data": {
      "text/plain": [
       "visitId                                    -0.022747\n",
       "visitNumber                                 0.011616\n",
       "visitStartTime                             -0.022747\n",
       "totals_bounces                             -0.052183\n",
       "totals_hits                                 0.262387\n",
       "totals_newVisits                           -0.062194\n",
       "totals_pageviews                            0.270127\n",
       "totals_sessionQualityDim                    0.100877\n",
       "totals_timeOnSite                           0.143043\n",
       "totals_totalTransactionRevenue              0.878877\n",
       "totals_transactionRevenue                   1.000000\n",
       "totals_transactions                         0.548267\n",
       "device_isMobile                            -0.029310\n",
       "trafficSource_adwordsClickInfo.isVideoAd   -0.000142\n",
       "trafficSource_isTrueDirect                  0.045353\n",
       "month                                      -0.009328\n",
       "year                                       -0.016581\n",
       "visitHour                                   0.005654\n",
       "Name: totals_transactionRevenue, dtype: float64"
      ]
     },
     "execution_count": 19,
     "metadata": {},
     "output_type": "execute_result"
    }
   ],
   "source": [
    "#Checking the correlation\n",
    "df.corr()['totals_transactionRevenue']"
   ]
  },
  {
   "cell_type": "code",
   "execution_count": 20,
   "metadata": {},
   "outputs": [],
   "source": [
    "#Removing totals_totalTransactionRevenue column as it has a very high correlation and is the sum \n",
    "#of all TransactionRevenue so cannot be used for modeling\n",
    "df = df.drop('totals_totalTransactionRevenue', axis=1)"
   ]
  },
  {
   "cell_type": "code",
   "execution_count": 21,
   "metadata": {},
   "outputs": [
    {
     "data": {
      "text/plain": [
       "(20000,)"
      ]
     },
     "execution_count": 21,
     "metadata": {},
     "output_type": "execute_result"
    }
   ],
   "source": [
    "#Taking only the target variable\n",
    "y = df['totals_transactionRevenue']\n",
    "y.shape"
   ]
  },
  {
   "cell_type": "code",
   "execution_count": null,
   "metadata": {},
   "outputs": [],
   "source": []
  },
  {
   "cell_type": "markdown",
   "metadata": {},
   "source": [
    "#### UNSUPERVISED LEARNING\n"
   ]
  },
  {
   "cell_type": "code",
   "execution_count": 22,
   "metadata": {},
   "outputs": [
    {
     "data": {
      "text/plain": [
       "Index(['visitNumber', 'visitStartTime', 'totals_bounces', 'totals_hits',\n",
       "       'totals_newVisits', 'totals_pageviews', 'totals_sessionQualityDim',\n",
       "       'totals_timeOnSite', 'totals_transactions', 'visitHour'],\n",
       "      dtype='object')"
      ]
     },
     "execution_count": 22,
     "metadata": {},
     "output_type": "execute_result"
    }
   ],
   "source": [
    "#Taking a subset of the data with only continuous/discrete data\n",
    "df_num = df.select_dtypes(include = ['float','int32','int64','float64','float32'])\n",
    "X = df_num.drop('totals_transactionRevenue', axis=1)\n",
    "X = X.drop(['visitId','month','year'],axis=1)\n",
    "X.columns"
   ]
  },
  {
   "cell_type": "code",
   "execution_count": 23,
   "metadata": {},
   "outputs": [
    {
     "data": {
      "text/plain": [
       "visitNumber                 0\n",
       "visitStartTime              0\n",
       "totals_bounces              0\n",
       "totals_hits                 0\n",
       "totals_newVisits            0\n",
       "totals_pageviews            0\n",
       "totals_sessionQualityDim    0\n",
       "totals_timeOnSite           0\n",
       "totals_transactions         0\n",
       "visitHour                   0\n",
       "dtype: int64"
      ]
     },
     "execution_count": 23,
     "metadata": {},
     "output_type": "execute_result"
    }
   ],
   "source": [
    "X.isna().sum()"
   ]
  },
  {
   "cell_type": "markdown",
   "metadata": {},
   "source": [
    "#### Scaling Data "
   ]
  },
  {
   "cell_type": "code",
   "execution_count": 24,
   "metadata": {},
   "outputs": [],
   "source": [
    "#Scaling data\n",
    "scaler = StandardScaler()\n",
    "scaler.fit(X)\n",
    "XScaled = scaler.transform(X)"
   ]
  },
  {
   "cell_type": "code",
   "execution_count": 25,
   "metadata": {},
   "outputs": [],
   "source": [
    "#Adding a column purchase \n",
    "df['Purchase'] = 0\n",
    "df.loc[df['totals_transactionRevenue'] > 0, 'Purchase'] = 1"
   ]
  },
  {
   "cell_type": "markdown",
   "metadata": {},
   "source": [
    "#### PCA"
   ]
  },
  {
   "cell_type": "code",
   "execution_count": 26,
   "metadata": {},
   "outputs": [],
   "source": [
    "from sklearn.decomposition import PCA \n",
    "model = PCA(n_components=2)            \n",
    "model.fit(XScaled)                     \n",
    "X_2D = model.transform(XScaled) "
   ]
  },
  {
   "cell_type": "code",
   "execution_count": 27,
   "metadata": {},
   "outputs": [
    {
     "data": {
      "image/png": "[encoded data removed]",
      "text/plain": [
       "<Figure size 413.875x360 with 1 Axes>"
      ]
     },
     "metadata": {},
     "output_type": "display_data"
    }
   ],
   "source": [
    "df['PCA1'] = X_2D[:, 0]\n",
    "df['PCA2'] = X_2D[:, 1]\n",
    "sns.lmplot(\"PCA1\", \"PCA2\", data=df, hue ='Purchase', fit_reg=False);"
   ]
  },
  {
   "cell_type": "markdown",
   "metadata": {},
   "source": [
    "#### CLUSTERING"
   ]
  },
  {
   "cell_type": "markdown",
   "metadata": {},
   "source": [
    "#### Gaussian Mixture"
   ]
  },
  {
   "cell_type": "code",
   "execution_count": 28,
   "metadata": {},
   "outputs": [],
   "source": [
    "from sklearn.mixture import GaussianMixture                      # 1. Choose the model class\n",
    "model = GaussianMixture(n_components=2,covariance_type='full')  # 2. Instantiate the model with hyperparameters\n",
    "model.fit(XScaled)                                                # 3. Fit to data. Notice y is not specified!\n",
    "y_gmm = model.predict(XScaled) "
   ]
  },
  {
   "cell_type": "code",
   "execution_count": 29,
   "metadata": {
    "scrolled": true
   },
   "outputs": [
    {
     "data": {
      "image/png": "[encoded data removed]",
      "text/plain": [
       "<Figure size 773.875x360 with 2 Axes>"
      ]
     },
     "metadata": {},
     "output_type": "display_data"
    }
   ],
   "source": [
    "df['cluster'] = y_gmm\n",
    "sns.lmplot(\"PCA1\", \"PCA2\", data=df,hue ='Purchase', col='cluster', fit_reg=False, palette = 'tab10');"
   ]
  },
  {
   "cell_type": "code",
   "execution_count": 30,
   "metadata": {},
   "outputs": [
    {
     "data": {
      "text/plain": [
       "(20000, 10)"
      ]
     },
     "execution_count": 30,
     "metadata": {},
     "output_type": "execute_result"
    }
   ],
   "source": [
    "XScaled.shape"
   ]
  },
  {
   "cell_type": "markdown",
   "metadata": {},
   "source": [
    "#### KMeans"
   ]
  },
  {
   "cell_type": "code",
   "execution_count": 31,
   "metadata": {},
   "outputs": [],
   "source": [
    "from sklearn.cluster import KMeans\n",
    "from scipy.spatial import distance_matrix\n",
    "\n",
    "clusters=range(1,15)\n",
    "meandistance=[]\n",
    "\n",
    "for k in clusters:\n",
    "    kmeans=KMeans(n_clusters=k)\n",
    "    kmeans.fit(X)\n",
    "    clusterAssignment=kmeans.predict(X)\n",
    "    meandistance.append(sum(np.min(distance_matrix(X,kmeans.cluster_centers_,p=2),axis=1)/X.shape[0]))"
   ]
  },
  {
   "cell_type": "code",
   "execution_count": 32,
   "metadata": {
    "scrolled": true
   },
   "outputs": [
    {
     "data": {
      "text/plain": [
       "Text(0.5,1,'Elbow method for selecting K')"
      ]
     },
     "execution_count": 32,
     "metadata": {},
     "output_type": "execute_result"
    },
    {
     "data": {
      "image/png": "[encoded data removed]",
      "text/plain": [
       "<Figure size 432x288 with 1 Axes>"
      ]
     },
     "metadata": {},
     "output_type": "display_data"
    }
   ],
   "source": [
    "plt.plot(clusters,meandistance)\n",
    "plt.xlabel('Clusters')\n",
    "plt.ylabel('Average Distance')\n",
    "plt.title('Elbow method for selecting K')"
   ]
  },
  {
   "cell_type": "code",
   "execution_count": 33,
   "metadata": {},
   "outputs": [],
   "source": [
    "#Performing k means for 2 clusters\n",
    "kmeans_2 =KMeans(n_clusters=2)\n",
    "kmeans_2.fit(X)\n",
    "cluster_kmeans = kmeans_2.predict(X)"
   ]
  },
  {
   "cell_type": "code",
   "execution_count": 34,
   "metadata": {},
   "outputs": [
    {
     "data": {
      "image/png": "[encoded data removed]",
      "text/plain": [
       "<Figure size 773.875x360 with 2 Axes>"
      ]
     },
     "metadata": {},
     "output_type": "display_data"
    }
   ],
   "source": [
    "df['cluster_kmeans'] = cluster_kmeans\n",
    "sns.lmplot(\"PCA1\", \"PCA2\", data=df,hue ='Purchase', col='cluster_kmeans', fit_reg=False, palette = 'tab10');"
   ]
  },
  {
   "cell_type": "markdown",
   "metadata": {},
   "source": [
    "#### SUPERVISED LEARNING"
   ]
  },
  {
   "cell_type": "code",
   "execution_count": 35,
   "metadata": {},
   "outputs": [
    {
     "data": {
      "text/plain": [
       "Index(['visitNumber', 'visitStartTime', 'totals_bounces', 'totals_hits',\n",
       "       'totals_newVisits', 'totals_pageviews', 'totals_sessionQualityDim',\n",
       "       'totals_timeOnSite', 'totals_transactions', 'visitHour'],\n",
       "      dtype='object')"
      ]
     },
     "execution_count": 35,
     "metadata": {},
     "output_type": "execute_result"
    }
   ],
   "source": [
    "#Defining X and y again for supervised models\n",
    "y = df['totals_transactionRevenue']\n",
    "y.shape\n",
    "\n",
    "df_num = df.select_dtypes(include = ['float','int32','int64','float64','float32'])\n",
    "X = df_num.drop('totals_transactionRevenue', axis=1)\n",
    "X = X.drop(['visitId','month','year'],axis=1)\n",
    "X = X.drop(['Purchase','PCA1','PCA2','cluster','cluster_kmeans'],axis=1)\n",
    "X.columns"
   ]
  },
  {
   "cell_type": "code",
   "execution_count": 36,
   "metadata": {},
   "outputs": [
    {
     "data": {
      "text/plain": [
       "visitNumber                   int64\n",
       "visitStartTime                int64\n",
       "totals_bounces              float64\n",
       "totals_hits                   int64\n",
       "totals_newVisits            float64\n",
       "totals_pageviews            float64\n",
       "totals_sessionQualityDim    float64\n",
       "totals_timeOnSite           float64\n",
       "totals_transactions         float64\n",
       "visitHour                     int32\n",
       "dtype: object"
      ]
     },
     "execution_count": 36,
     "metadata": {},
     "output_type": "execute_result"
    }
   ],
   "source": [
    "X.dtypes"
   ]
  },
  {
   "cell_type": "code",
   "execution_count": 37,
   "metadata": {},
   "outputs": [],
   "source": [
    "#X = X.drop(['Purchase','PCA1','PCA2','cluster','cluster_kmeans'],axis=1)"
   ]
  },
  {
   "cell_type": "code",
   "execution_count": 38,
   "metadata": {},
   "outputs": [],
   "source": [
    "#Splitting into test and train\n",
    "from sklearn.model_selection import train_test_split\n",
    "\n",
    "Xtrain, Xtest, ytrain, ytest = train_test_split(X, y, random_state=1)"
   ]
  },
  {
   "cell_type": "code",
   "execution_count": 39,
   "metadata": {},
   "outputs": [],
   "source": [
    "#Analyzing how the data has been split to see we have enough \n",
    "#non zero values in the training and test datasets"
   ]
  },
  {
   "cell_type": "code",
   "execution_count": 40,
   "metadata": {},
   "outputs": [
    {
     "data": {
      "text/plain": [
       "1109014.6666666667"
      ]
     },
     "execution_count": 40,
     "metadata": {},
     "output_type": "execute_result"
    }
   ],
   "source": [
    "ytrain.mean()"
   ]
  },
  {
   "cell_type": "code",
   "execution_count": 41,
   "metadata": {},
   "outputs": [
    {
     "data": {
      "text/plain": [
       "871232.0"
      ]
     },
     "execution_count": 41,
     "metadata": {},
     "output_type": "execute_result"
    }
   ],
   "source": [
    "ytest.mean()"
   ]
  },
  {
   "cell_type": "code",
   "execution_count": 42,
   "metadata": {},
   "outputs": [
    {
     "data": {
      "text/plain": [
       "49"
      ]
     },
     "execution_count": 42,
     "metadata": {},
     "output_type": "execute_result"
    }
   ],
   "source": [
    "sum(i > 0 for i in ytest)"
   ]
  },
  {
   "cell_type": "code",
   "execution_count": 43,
   "metadata": {},
   "outputs": [
    {
     "data": {
      "text/plain": [
       "144"
      ]
     },
     "execution_count": 43,
     "metadata": {},
     "output_type": "execute_result"
    }
   ],
   "source": [
    "sum(i > 0 for i in ytrain)"
   ]
  },
  {
   "cell_type": "code",
   "execution_count": 44,
   "metadata": {},
   "outputs": [
    {
     "data": {
      "text/plain": [
       "(15000,)"
      ]
     },
     "execution_count": 44,
     "metadata": {},
     "output_type": "execute_result"
    }
   ],
   "source": [
    "ytrain.shape"
   ]
  },
  {
   "cell_type": "code",
   "execution_count": 45,
   "metadata": {
    "scrolled": true
   },
   "outputs": [
    {
     "data": {
      "text/plain": [
       "(5000,)"
      ]
     },
     "execution_count": 45,
     "metadata": {},
     "output_type": "execute_result"
    }
   ],
   "source": [
    "ytest.shape"
   ]
  },
  {
   "cell_type": "code",
   "execution_count": 46,
   "metadata": {},
   "outputs": [],
   "source": [
    "from sklearn.metrics import accuracy_score "
   ]
  },
  {
   "cell_type": "markdown",
   "metadata": {},
   "source": [
    "#### Linear Regression - Starting with a basic model"
   ]
  },
  {
   "cell_type": "code",
   "execution_count": 47,
   "metadata": {},
   "outputs": [
    {
     "data": {
      "text/plain": [
       "15070851.76091076"
      ]
     },
     "execution_count": 47,
     "metadata": {},
     "output_type": "execute_result"
    }
   ],
   "source": [
    "#Linear Regression\n",
    "\n",
    "from sklearn.linear_model import LinearRegression\n",
    "reg = LinearRegression().fit(Xtrain, ytrain)\n",
    "reg.score(Xtrain, ytrain)\n",
    "yPred = reg.predict(Xtest)\n",
    "np.sqrt(mean_squared_error(ytest,yPred))"
   ]
  },
  {
   "cell_type": "markdown",
   "metadata": {},
   "source": [
    "#### RMSE indicates the absolute fit of the model to the data and is a good parameter to measure of how accurately the model predicts the response"
   ]
  },
  {
   "cell_type": "markdown",
   "metadata": {},
   "source": [
    "#### KNN Regression"
   ]
  },
  {
   "cell_type": "code",
   "execution_count": 48,
   "metadata": {},
   "outputs": [
    {
     "data": {
      "text/plain": [
       "{'n_neighbors': 9}"
      ]
     },
     "execution_count": 48,
     "metadata": {},
     "output_type": "execute_result"
    }
   ],
   "source": [
    "from sklearn.model_selection import GridSearchCV\n",
    "params = {'n_neighbors':[1,2,3,4,5,6,7,8,9]}\n",
    "\n",
    "knn = neighbors.KNeighborsRegressor()\n",
    "\n",
    "model = GridSearchCV(knn, params, cv=5)\n",
    "model.fit(Xtrain,ytrain)\n",
    "model.best_params_"
   ]
  },
  {
   "cell_type": "code",
   "execution_count": 51,
   "metadata": {},
   "outputs": [
    {
     "data": {
      "text/plain": [
       "18803333.471028905"
      ]
     },
     "execution_count": 51,
     "metadata": {},
     "output_type": "execute_result"
    }
   ],
   "source": [
    "model = neighbors.KNeighborsRegressor(n_neighbors = 9)\n",
    "model.fit(Xtrain, ytrain) \n",
    "pred=model.predict(Xtest) \n",
    "error = sqrt(mean_squared_error(ytest,pred))\n",
    "error"
   ]
  },
  {
   "cell_type": "markdown",
   "metadata": {},
   "source": [
    "#### SGD Regressor"
   ]
  },
  {
   "cell_type": "code",
   "execution_count": 52,
   "metadata": {},
   "outputs": [
    {
     "name": "stderr",
     "output_type": "stream",
     "text": [
      "C:\\Users\\aditi\\Anaconda3\\lib\\site-packages\\sklearn\\linear_model\\stochastic_gradient.py:128: FutureWarning: max_iter and tol parameters have been added in <class 'sklearn.linear_model.stochastic_gradient.SGDRegressor'> in 0.19. If both are left unset, they default to max_iter=5 and tol=None. If tol is not None, max_iter defaults to max_iter=1000. From 0.21, default max_iter will be 1000, and default tol will be 1e-3.\n",
      "  \"and default tol will be 1e-3.\" % type(self), FutureWarning)\n"
     ]
    },
    {
     "data": {
      "text/plain": [
       "2.9274040524177404e+25"
      ]
     },
     "execution_count": 52,
     "metadata": {},
     "output_type": "execute_result"
    }
   ],
   "source": [
    "#SGD REGRESSOR\n",
    "model = SGDRegressor()\n",
    "model.fit(Xtrain,ytrain)\n",
    "ypred = model.predict(Xtest)\n",
    "np.sqrt(mean_squared_error(ytest,ypred))\n"
   ]
  },
  {
   "cell_type": "markdown",
   "metadata": {},
   "source": [
    "#### Dimensionality Reduction - FEATURE SELECTION"
   ]
  },
  {
   "cell_type": "code",
   "execution_count": 53,
   "metadata": {},
   "outputs": [
    {
     "name": "stderr",
     "output_type": "stream",
     "text": [
      "C:\\Users\\aditi\\Anaconda3\\lib\\site-packages\\sklearn\\linear_model\\stochastic_gradient.py:128: FutureWarning: max_iter and tol parameters have been added in <class 'sklearn.linear_model.stochastic_gradient.SGDRegressor'> in 0.19. If both are left unset, they default to max_iter=5 and tol=None. If tol is not None, max_iter defaults to max_iter=1000. From 0.21, default max_iter will be 1000, and default tol will be 1e-3.\n",
      "  \"and default tol will be 1e-3.\" % type(self), FutureWarning)\n",
      "C:\\Users\\aditi\\Anaconda3\\lib\\site-packages\\sklearn\\linear_model\\stochastic_gradient.py:128: FutureWarning: max_iter and tol parameters have been added in <class 'sklearn.linear_model.stochastic_gradient.SGDRegressor'> in 0.19. If both are left unset, they default to max_iter=5 and tol=None. If tol is not None, max_iter defaults to max_iter=1000. From 0.21, default max_iter will be 1000, and default tol will be 1e-3.\n",
      "  \"and default tol will be 1e-3.\" % type(self), FutureWarning)\n"
     ]
    },
    {
     "data": {
      "text/plain": [
       "RFE(estimator=SGDRegressor(alpha=0.0001, average=False, epsilon=0.1, eta0=0.01,\n",
       "       fit_intercept=True, l1_ratio=0.15, learning_rate='invscaling',\n",
       "       loss='squared_loss', max_iter=None, n_iter=None, penalty='l2',\n",
       "       power_t=0.25, random_state=None, shuffle=True, tol=None, verbose=0,\n",
       "       warm_start=False),\n",
       "  n_features_to_select=5, step=100, verbose=0)"
      ]
     },
     "execution_count": 53,
     "metadata": {},
     "output_type": "execute_result"
    }
   ],
   "source": [
    "from sklearn.feature_selection import RFE\n",
    "\n",
    "estimator = SGDRegressor() \n",
    "selector = RFE(estimator, 5, step=100)\n",
    "selector.fit(Xtrain,ytrain)"
   ]
  },
  {
   "cell_type": "code",
   "execution_count": 54,
   "metadata": {},
   "outputs": [
    {
     "name": "stdout",
     "output_type": "stream",
     "text": [
      "Index(['visitNumber', 'visitStartTime', 'totals_hits', 'totals_pageviews',\n",
      "       'totals_timeOnSite'],\n",
      "      dtype='object')\n"
     ]
    }
   ],
   "source": [
    "fs = selector.support_\n",
    "xc = Xtrain.columns\n",
    "res = xc[fs]\n",
    "print(res)\n",
    "col1 = ['visitNumber', 'totals_bounces', 'totals_newVisits','totals_sessionQualityDim', 'totals_transactions']\n",
    "X_reduced = X.drop(col1,axis=1,inplace=True)"
   ]
  },
  {
   "cell_type": "code",
   "execution_count": 55,
   "metadata": {
    "scrolled": true
   },
   "outputs": [
    {
     "data": {
      "text/html": [
       "<div>\n",
       "<style scoped>\n",
       "    .dataframe tbody tr th:only-of-type {\n",
       "        vertical-align: middle;\n",
       "    }\n",
       "\n",
       "    .dataframe tbody tr th {\n",
       "        vertical-align: top;\n",
       "    }\n",
       "\n",
       "    .dataframe thead th {\n",
       "        text-align: right;\n",
       "    }\n",
       "</style>\n",
       "<table border=\"1\" class=\"dataframe\">\n",
       "  <thead>\n",
       "    <tr style=\"text-align: right;\">\n",
       "      <th></th>\n",
       "      <th>visitStartTime</th>\n",
       "      <th>totals_hits</th>\n",
       "      <th>totals_pageviews</th>\n",
       "      <th>totals_timeOnSite</th>\n",
       "      <th>visitHour</th>\n",
       "    </tr>\n",
       "  </thead>\n",
       "  <tbody>\n",
       "    <tr>\n",
       "      <th>0</th>\n",
       "      <td>1508198450</td>\n",
       "      <td>1</td>\n",
       "      <td>1.0</td>\n",
       "      <td>0.0</td>\n",
       "      <td>19</td>\n",
       "    </tr>\n",
       "    <tr>\n",
       "      <th>1</th>\n",
       "      <td>1508176307</td>\n",
       "      <td>2</td>\n",
       "      <td>2.0</td>\n",
       "      <td>28.0</td>\n",
       "      <td>12</td>\n",
       "    </tr>\n",
       "    <tr>\n",
       "      <th>2</th>\n",
       "      <td>1508201613</td>\n",
       "      <td>2</td>\n",
       "      <td>2.0</td>\n",
       "      <td>38.0</td>\n",
       "      <td>19</td>\n",
       "    </tr>\n",
       "    <tr>\n",
       "      <th>3</th>\n",
       "      <td>1508169851</td>\n",
       "      <td>2</td>\n",
       "      <td>2.0</td>\n",
       "      <td>1.0</td>\n",
       "      <td>11</td>\n",
       "    </tr>\n",
       "    <tr>\n",
       "      <th>4</th>\n",
       "      <td>1508190552</td>\n",
       "      <td>2</td>\n",
       "      <td>2.0</td>\n",
       "      <td>52.0</td>\n",
       "      <td>16</td>\n",
       "    </tr>\n",
       "  </tbody>\n",
       "</table>\n",
       "</div>"
      ],
      "text/plain": [
       "   visitStartTime  totals_hits  totals_pageviews  totals_timeOnSite  visitHour\n",
       "0      1508198450            1               1.0                0.0         19\n",
       "1      1508176307            2               2.0               28.0         12\n",
       "2      1508201613            2               2.0               38.0         19\n",
       "3      1508169851            2               2.0                1.0         11\n",
       "4      1508190552            2               2.0               52.0         16"
      ]
     },
     "execution_count": 55,
     "metadata": {},
     "output_type": "execute_result"
    }
   ],
   "source": [
    "X.head()"
   ]
  },
  {
   "cell_type": "markdown",
   "metadata": {},
   "source": [
    "#### Supervised Learning with Reduced Dimensions"
   ]
  },
  {
   "cell_type": "markdown",
   "metadata": {},
   "source": [
    "#### KNN on reduced dimensions (PCA)"
   ]
  },
  {
   "cell_type": "code",
   "execution_count": 56,
   "metadata": {},
   "outputs": [],
   "source": [
    "#Splitting into test and train using reduced dimensions - PCA\n",
    "from sklearn.model_selection import train_test_split\n",
    "\n",
    "Xtrain_2, Xtest_2, ytrain_2, ytest_2 = train_test_split(X_2D, y, random_state=1)"
   ]
  },
  {
   "cell_type": "code",
   "execution_count": 57,
   "metadata": {},
   "outputs": [
    {
     "data": {
      "text/plain": [
       "{'n_neighbors': 9}"
      ]
     },
     "execution_count": 57,
     "metadata": {},
     "output_type": "execute_result"
    }
   ],
   "source": [
    "#KNN on Reduced dataset\n",
    "from sklearn.model_selection import GridSearchCV\n",
    "params = {'n_neighbors':[1,2,3,4,5,6,7,8,9]}\n",
    "\n",
    "knn = neighbors.KNeighborsRegressor()\n",
    "\n",
    "model = GridSearchCV(knn, params, cv=5)\n",
    "model.fit(Xtrain_2,ytrain_2)\n",
    "model.best_params_"
   ]
  },
  {
   "cell_type": "code",
   "execution_count": 58,
   "metadata": {},
   "outputs": [
    {
     "data": {
      "text/plain": [
       "17378299.583839584"
      ]
     },
     "execution_count": 58,
     "metadata": {},
     "output_type": "execute_result"
    }
   ],
   "source": [
    "model = neighbors.KNeighborsRegressor(n_neighbors = 9)\n",
    "model.fit(Xtrain_2, ytrain_2) \n",
    "pred=model.predict(Xtest_2) \n",
    "error = sqrt(mean_squared_error(ytest_2,pred))\n",
    "error"
   ]
  },
  {
   "cell_type": "markdown",
   "metadata": {},
   "source": [
    "#### Using the reduced dimensionality to perform knn classifier it can be seen that the mean squared error has drastically reduced. This gives us a better result"
   ]
  },
  {
   "cell_type": "code",
   "execution_count": 59,
   "metadata": {},
   "outputs": [
    {
     "data": {
      "text/plain": [
       "17643844.601376157"
      ]
     },
     "execution_count": 59,
     "metadata": {},
     "output_type": "execute_result"
    }
   ],
   "source": [
    "#Linear Regression\n",
    "\n",
    "from sklearn.linear_model import LinearRegression\n",
    "reg = LinearRegression().fit(Xtrain_2, ytrain_2)\n",
    "reg.score(Xtrain_2, ytrain_2)\n",
    "yPred = reg.predict(Xtest_2)\n",
    "np.sqrt(mean_squared_error(ytest_2,yPred))"
   ]
  },
  {
   "cell_type": "markdown",
   "metadata": {},
   "source": [
    "#### Using reduced dimensions on a Linear regression isn't helping in improving the mean square error"
   ]
  },
  {
   "cell_type": "markdown",
   "metadata": {},
   "source": [
    "#### Reduced Dimension from Feature Selection used in Supervised Learning"
   ]
  },
  {
   "cell_type": "code",
   "execution_count": 136,
   "metadata": {},
   "outputs": [],
   "source": [
    "#Splitting into test and train for feature selection\n",
    "from sklearn.model_selection import train_test_split\n",
    "\n",
    "Xtrain_FS, Xtest_FS, ytrain_FS, ytest_FS = train_test_split(X, y, random_state=1)"
   ]
  },
  {
   "cell_type": "markdown",
   "metadata": {},
   "source": [
    "#### SGD "
   ]
  },
  {
   "cell_type": "code",
   "execution_count": 137,
   "metadata": {},
   "outputs": [
    {
     "name": "stderr",
     "output_type": "stream",
     "text": [
      "C:\\Users\\aditi\\Anaconda3\\lib\\site-packages\\sklearn\\linear_model\\stochastic_gradient.py:128: FutureWarning: max_iter and tol parameters have been added in <class 'sklearn.linear_model.stochastic_gradient.SGDRegressor'> in 0.19. If both are left unset, they default to max_iter=5 and tol=None. If tol is not None, max_iter defaults to max_iter=1000. From 0.21, default max_iter will be 1000, and default tol will be 1e-3.\n",
      "  \"and default tol will be 1e-3.\" % type(self), FutureWarning)\n"
     ]
    },
    {
     "data": {
      "text/plain": [
       "1.1199568835156142e+27"
      ]
     },
     "execution_count": 137,
     "metadata": {},
     "output_type": "execute_result"
    }
   ],
   "source": [
    "#SGD REGRESSOR\n",
    "model = SGDRegressor()\n",
    "model.fit(Xtrain_FS,ytrain_FS)\n",
    "ypred_FS = model.predict(Xtest_FS)\n",
    "np.sqrt(mean_squared_error(ytest_FS,ypred_FS))"
   ]
  },
  {
   "cell_type": "markdown",
   "metadata": {},
   "source": [
    "#### The error doesn't improve with reduced dimensions for this algorithm"
   ]
  },
  {
   "cell_type": "markdown",
   "metadata": {},
   "source": [
    "#### Linear Regression"
   ]
  },
  {
   "cell_type": "code",
   "execution_count": 144,
   "metadata": {},
   "outputs": [
    {
     "data": {
      "text/plain": [
       "17586166.377414133"
      ]
     },
     "execution_count": 144,
     "metadata": {},
     "output_type": "execute_result"
    }
   ],
   "source": [
    "#Linear Regression\n",
    "\n",
    "from sklearn.linear_model import LinearRegression\n",
    "reg = LinearRegression().fit(Xtrain_FS, ytrain_FS)\n",
    "reg.score(Xtrain_FS, ytrain_FS)\n",
    "yPred = reg.predict(Xtest_FS)\n",
    "np.sqrt(mean_squared_error(ytest_FS,yPred))"
   ]
  },
  {
   "cell_type": "markdown",
   "metadata": {},
   "source": [
    "#### This again doesn't help improve the mean square error in a linear regression"
   ]
  },
  {
   "cell_type": "markdown",
   "metadata": {},
   "source": [
    "#### Conclusion: PCA has helped reduce the mean square error for KNN Algorithm"
   ]
  },
  {
   "cell_type": "code",
   "execution_count": null,
   "metadata": {},
   "outputs": [],
   "source": []
  }
 ],
 "metadata": {
  "kernelspec": {
   "display_name": "Python 3",
   "language": "python",
   "name": "python3"
  },
  "language_info": {
   "codemirror_mode": {
    "name": "ipython",
    "version": 3
   },
   "file_extension": ".py",
   "mimetype": "text/x-python",
   "name": "python",
   "nbconvert_exporter": "python",
   "pygments_lexer": "ipython3",
   "version": "3.6.5"
  }
 },
 "nbformat": 4,
 "nbformat_minor": 2
}
